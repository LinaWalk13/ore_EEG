{
 "cells": [
  {
   "cell_type": "markdown",
   "id": "1ecedb06",
   "metadata": {},
   "source": [
    "# Anova for our analysis\n",
    "We run an anova to compare ethnicities and emotions, each combination of those. We have to leave out the asians unfortunately:("
   ]
  },
  {
   "cell_type": "markdown",
   "id": "989aa27b",
   "metadata": {},
   "source": [
    "# Load in packages "
   ]
  },
  {
   "cell_type": "code",
   "execution_count": 29,
   "id": "4c8849e9",
   "metadata": {},
   "outputs": [],
   "source": [
    "import numpy as np\n",
    "import mne\n",
    "from pathlib import Path\n",
    "import pandas as pd\n",
    "import statsmodels.api as sm\n",
    "from statsmodels.formula.api import ols"
   ]
  },
  {
   "cell_type": "markdown",
   "id": "eab92bfa",
   "metadata": {},
   "source": [
    "## Load in the data and epochs"
   ]
  },
  {
   "cell_type": "code",
   "execution_count": 30,
   "id": "c34e33fe",
   "metadata": {},
   "outputs": [
    {
     "name": "stdout",
     "output_type": "stream",
     "text": [
      "NOTE: pick_types() is a legacy function. New code should use inst.pick(...).\n",
      "NOTE: pick_types() is a legacy function. New code should use inst.pick(...).\n",
      "<class 'list'>\n",
      "2\n",
      "<class 'mne.epochs.EpochsFIF'>\n"
     ]
    }
   ],
   "source": [
    "# ALL FROM LAURAS GROUP LEVEL ANALYSIS\n",
    "# Define the directory\n",
    "data_path = Path(\"/Users/lina/Documents/GitHub/ore_EEG/epochs\")\n",
    "\n",
    "# Initialize an empty list to store epochs objects\n",
    "all_epochs = []\n",
    "\n",
    "# Iterate over your saved files and load them into epochs objects\n",
    "for participant in [\"own_sub1\", \"own2_ah\"]:\n",
    "    # Load epochs data from each file\n",
    "    epochs = mne.read_epochs(data_path / f\"epochs_{participant}-epo.fif\", verbose=False, preload=True)\n",
    "    \n",
    "    # Only keep EEG channels\n",
    "    epochs.pick_types(eeg=True)\n",
    "    \n",
    "    # Append the loaded epochs object to the list\n",
    "    all_epochs.append(epochs)\n",
    "\n",
    "# Check the type and length of the list of epochs objects\n",
    "print(type(all_epochs))  # We have now created a list of epochs objects\n",
    "print(len(all_epochs))    # We have 2 epochs objects in the list\n",
    "\n",
    "# Access the first epochs object in the list\n",
    "print(type(all_epochs[0]))  # We can access the first epochs object in the list which is an Epochs object"
   ]
  },
  {
   "cell_type": "markdown",
   "id": "484151e2",
   "metadata": {},
   "source": [
    "## Define channels and time used for the anova"
   ]
  },
  {
   "cell_type": "code",
   "execution_count": 39,
   "id": "80d2fcf5",
   "metadata": {},
   "outputs": [],
   "source": [
    "# chosen channels for anova\n",
    "picks = [\"Oz\", \"P7\"] # just random \n",
    "\n",
    "# time window for anova\n",
    "tmin = 0.1\n",
    "tmax = 0.2"
   ]
  },
  {
   "cell_type": "markdown",
   "id": "599772bd",
   "metadata": {},
   "source": [
    "## Define Factors"
   ]
  },
  {
   "cell_type": "code",
   "execution_count": 49,
   "id": "724761d6",
   "metadata": {},
   "outputs": [
    {
     "name": "stdout",
     "output_type": "stream",
     "text": [
      "   Ethnicity  Emotion          Mean\n",
      "0      white    happy -1.427985e-08\n",
      "1      white  neutral -7.863522e-07\n",
      "2      white      sad -1.886132e-08\n",
      "3      black    happy -3.755538e-08\n",
      "4      black  neutral -2.942374e-07\n",
      "5      black      sad  1.858291e-08\n",
      "6      white    happy -2.250763e-07\n",
      "7      white  neutral -3.468075e-07\n",
      "8      white      sad -4.321362e-07\n",
      "9      black    happy -3.916005e-07\n",
      "10     black  neutral -4.915243e-07\n",
      "11     black      sad -3.841368e-07\n"
     ]
    }
   ],
   "source": [
    "# make lists for labels in conditions\n",
    "ethnicity_labels = ['white', 'black']\n",
    "emotion_labels = ['happy', 'neutral', 'sad']\n",
    "data = []\n",
    "\n",
    "# WE want combinations of ethnicity and emotion, so we loop over all of the epochs conditions\n",
    "for epochs in all_epochs:\n",
    "    for ethnicity in ethnicity_labels:\n",
    "        for emotion in emotion_labels:\n",
    "                current_epochs = epochs[f'{emotion}/{ethnicity}']\n",
    "                # get data\n",
    "                data_current = current_epochs.get_data(picks=picks, tmin=tmin, tmax=tmax)\n",
    "                # calculate mean for this data\n",
    "                data_mean = np.mean(data_current, axis=(0, 1, 2))\n",
    "                # add data to list\n",
    "                data.append([ethnicity, emotion, data_mean])\n",
    "\n",
    "# Make to dataframe\n",
    "df = pd.DataFrame(data, columns=['Ethnicity', 'Emotion', 'Mean'])\n",
    "# see hot it looks\n",
    "print(df)\n"
   ]
  },
  {
   "cell_type": "code",
   "execution_count": 77,
   "id": "d688513b",
   "metadata": {},
   "outputs": [
    {
     "name": "stdout",
     "output_type": "stream",
     "text": [
      "                          df        sum_sq       mean_sq         F    PR(>F)\n",
      "C(Ethnicity)             1.0  4.922443e-15  4.922443e-15  0.080379  0.786313\n",
      "C(Emotion)               2.0  2.333882e-13  1.166941e-13  1.905510  0.228724\n",
      "C(Ethnicity):C(Emotion)  2.0  3.608003e-14  1.804001e-14  0.294577  0.755031\n",
      "Residual                 6.0  3.674420e-13  6.124034e-14       NaN       NaN\n"
     ]
    }
   ],
   "source": [
    "\n",
    "# Get ethinities and emotions conditions\n",
    "ethnicities = df['Ethnicity'].unique()\n",
    "emotions = df['Emotion'].unique()\n",
    "\n",
    "# empty list to store results\n",
    "anova_results = []\n",
    "\n",
    "# loop through each combination of ethnicity and emotion\n",
    "for ethnicity in ethnicities:\n",
    "    for emotion in emotions:\n",
    "        # select the data corresponding to current one\n",
    "        data_subset = df[(df['Ethnicity'] == ethnicity) & (df['Emotion'] == emotion)]['Mean'].values\n",
    "        \n",
    "        # we append the data subset to the list\n",
    "        anova_results.append(data_subset)\n",
    "\n",
    "# TWO WAY ANOVA\n",
    "# we fit the model\n",
    "model = ols('Mean ~ C(Ethnicity) + C(Emotion) + C(Ethnicity):C(Emotion)', data=df).fit()\n",
    "\n",
    "# table of results\n",
    "anova_table = sm.stats.anova_lm(model)\n",
    "\n",
    "# PRINTTTTT\n",
    "print(anova_table)\n"
   ]
  },
  {
   "cell_type": "code",
   "execution_count": null,
   "id": "156a1f93",
   "metadata": {},
   "outputs": [],
   "source": [
    "import numpy as np\n",
    "\n",
    "# Calculate mean and standard deviation for each condition\n",
    "mean_values = np.mean(anova_results, axis=1)\n",
    "std_values = np.std(anova_results, axis=1)\n",
    "\n",
    "# Plot with error bars\n",
    "plt.figure(figsize=(12, 8))\n",
    "plt.errorbar(range(len(mean_values)), mean_values, yerr=std_values, fmt='o', markersize=8, capsize=5, color='lightpink', ecolor='hotpink', linestyle='-', linewidth=2)\n",
    "plt.title(\"ANOVA Results\", fontsize=16)\n",
    "plt.xlabel(\"Conditions\", fontsize=14)\n",
    "plt.ylabel(\"Mean\", fontsize=14)\n",
    "plt.xticks(ticks=range(len(anova_results)), labels=[f\"{ethnicity} - {emotion}\" for ethnicity in ethnicities for emotion in emotions], rotation=90, fontsize=12)\n",
    "plt.yticks(fontsize=12)\n",
    "plt.grid(axis='y', linestyle='-', alpha=0.7)\n",
    "plt.tight_layout()\n",
    "plt.show()\n",
    "\n"
   ]
  }
 ],
 "metadata": {
  "kernelspec": {
   "display_name": "Python 3 (ipykernel)",
   "language": "python",
   "name": "python3"
  },
  "language_info": {
   "codemirror_mode": {
    "name": "ipython",
    "version": 3
   },
   "file_extension": ".py",
   "mimetype": "text/x-python",
   "name": "python",
   "nbconvert_exporter": "python",
   "pygments_lexer": "ipython3",
   "version": "3.11.4"
  },
  "toc": {
   "base_numbering": 1,
   "nav_menu": {},
   "number_sections": true,
   "sideBar": true,
   "skip_h1_title": false,
   "title_cell": "Table of Contents",
   "title_sidebar": "Contents",
   "toc_cell": false,
   "toc_position": {},
   "toc_section_display": true,
   "toc_window_display": false
  },
  "vscode": {
   "interpreter": {
    "hash": "31f2aee4e71d21fbe5cf8b01ff0e069b9275f58929596ceb00d14d90e3e16cd6"
   }
  }
 },
 "nbformat": 4,
 "nbformat_minor": 5
}
