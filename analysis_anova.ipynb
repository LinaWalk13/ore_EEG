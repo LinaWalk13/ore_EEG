{
 "cells": [
  {
   "cell_type": "markdown",
   "id": "1ecedb06",
   "metadata": {},
   "source": [
    "## Anova for our analysis"
   ]
  },
  {
   "cell_type": "markdown",
   "id": "989aa27b",
   "metadata": {},
   "source": [
    "# Load in packages "
   ]
  },
  {
   "cell_type": "code",
   "execution_count": 29,
   "id": "4c8849e9",
   "metadata": {},
   "outputs": [],
   "source": [
    "import numpy as np\n",
    "import mne\n",
    "from pathlib import Path\n",
    "import pandas as pd\n",
    "import statsmodels.api as sm\n",
    "from statsmodels.formula.api import ols"
   ]
  },
  {
   "cell_type": "markdown",
   "id": "eab92bfa",
   "metadata": {},
   "source": [
    "## Load in the data and epochs"
   ]
  },
  {
   "cell_type": "code",
   "execution_count": 30,
   "id": "c34e33fe",
   "metadata": {},
   "outputs": [
    {
     "name": "stdout",
     "output_type": "stream",
     "text": [
      "NOTE: pick_types() is a legacy function. New code should use inst.pick(...).\n",
      "NOTE: pick_types() is a legacy function. New code should use inst.pick(...).\n",
      "<class 'list'>\n",
      "2\n",
      "<class 'mne.epochs.EpochsFIF'>\n"
     ]
    }
   ],
   "source": [
    "# ALL FROM LAURAS GROUP LEVEL ANALYSIS\n",
    "# Define the directory\n",
    "data_path = Path(\"/Users/lina/Documents/GitHub/ore_EEG/epochs\")\n",
    "\n",
    "# Initialize an empty list to store epochs objects\n",
    "all_epochs = []\n",
    "\n",
    "# Iterate over your saved files and load them into epochs objects\n",
    "for participant in [\"own_sub1\", \"own2_ah\"]:\n",
    "    # Load epochs data from each file\n",
    "    epochs = mne.read_epochs(data_path / f\"epochs_{participant}-epo.fif\", verbose=False, preload=True)\n",
    "    \n",
    "    # Only keep EEG channels\n",
    "    epochs.pick_types(eeg=True)\n",
    "    \n",
    "    # Append the loaded epochs object to the list\n",
    "    all_epochs.append(epochs)\n",
    "\n",
    "# Check the type and length of the list of epochs objects\n",
    "print(type(all_epochs))  # We have now created a list of epochs objects\n",
    "print(len(all_epochs))    # We have 2 epochs objects in the list\n",
    "\n",
    "# Access the first epochs object in the list\n",
    "print(type(all_epochs[0]))  # We can access the first epochs object in the list which is an Epochs object"
   ]
  },
  {
   "cell_type": "markdown",
   "id": "484151e2",
   "metadata": {},
   "source": [
    "## Define channels and time"
   ]
  },
  {
   "cell_type": "code",
   "execution_count": 39,
   "id": "80d2fcf5",
   "metadata": {},
   "outputs": [],
   "source": [
    "# chosen channels\n",
    "picks = [\"Oz\", \"P7\"] # just random \n",
    "\n",
    "# time window in seconds\n",
    "tmin = 0.1\n",
    "tmax = 0.2"
   ]
  },
  {
   "cell_type": "markdown",
   "id": "2a9f7603",
   "metadata": {},
   "source": [
    "## FACTORS for anova"
   ]
  },
  {
   "cell_type": "code",
   "execution_count": 40,
   "id": "859cf34f",
   "metadata": {},
   "outputs": [
    {
     "name": "stdout",
     "output_type": "stream",
     "text": [
      "   Ethnicity Emotion          Mean\n",
      "0      white   happy -1.427985e-08\n",
      "1      white     sad -1.886132e-08\n",
      "2      black   happy -3.755538e-08\n",
      "3      black     sad  1.858291e-08\n",
      "4      asian   happy  6.384286e-08\n",
      "5      asian     sad -1.005507e-07\n",
      "6      white   happy -2.250763e-07\n",
      "7      white     sad -4.321362e-07\n",
      "8      black   happy -3.916005e-07\n",
      "9      black     sad -3.841368e-07\n",
      "10     asian   happy -2.706392e-07\n",
      "11     asian     sad -2.791774e-07\n"
     ]
    }
   ],
   "source": [
    "# make lists for labels in conditions\n",
    "ethnicity_labels = ['white', 'black', 'asian']\n",
    "emotion_labels = ['happy', 'sad']\n",
    "data = []\n",
    "\n",
    "# WE want combinations of ethnicity and emotion, so we loop over all of the epochs conditions\n",
    "for epochs in all_epochs:\n",
    "    for ethnicity in ethnicity_labels:\n",
    "        for emotion in emotion_labels:\n",
    "                current_epochs = epochs[f'{emotion}/{ethnicity}']\n",
    "                # get data\n",
    "                data_current = current_epochs.get_data(picks=picks, tmin=tmin, tmax=tmax)\n",
    "                # calculate mean for this data\n",
    "                data_mean = np.mean(data_current, axis=(0, 1, 2))\n",
    "                # add data to list\n",
    "                data.append([ethnicity, emotion, data_mean])\n",
    "\n",
    "# Make to dtaframe\n",
    "df = pd.DataFrame(data, columns=['Ethnicity', 'Emotion', 'Mean'])\n",
    "# see how it looks\n",
    "print(df)\n"
   ]
  },
  {
   "cell_type": "code",
   "execution_count": 45,
   "id": "40e6d9d7",
   "metadata": {},
   "outputs": [
    {
     "name": "stdout",
     "output_type": "stream",
     "text": [
      "                          df        sum_sq       mean_sq         F    PR(>F)\n",
      "C(Ethnicity)             2.0  5.417652e-15  2.708826e-15  0.050276  0.951363\n",
      "C(Emotion)               1.0  8.585208e-15  8.585208e-15  0.159342  0.703583\n",
      "C(Ethnicity):C(Emotion)  2.0  1.110046e-14  5.550232e-15  0.103013  0.903677\n",
      "Residual                 6.0  3.232741e-13  5.387902e-14       NaN       NaN\n"
     ]
    }
   ],
   "source": [
    "# RUN THE ANOVA\n",
    "# Get ethinities and emotions conditions\n",
    "ethnicities = df['Ethnicity'].unique()\n",
    "emotions = df['Emotion'].unique()\n",
    "\n",
    "# empty list to store results\n",
    "anova_results = []\n",
    "\n",
    "# loop through each combination of ethnicity and emotion\n",
    "for ethnicity in ethnicities:\n",
    "    for emotion in emotions:\n",
    "        # select the data corresponding to current one\n",
    "        data_subset = df[(df['Ethnicity'] == ethnicity) & (df['Emotion'] == emotion)]['Mean'].values\n",
    "        \n",
    "        # we append the data subset to the list\n",
    "        anova_results.append(data_subset)\n",
    "\n",
    "# TWO WAY ANOVA\n",
    "# we fit the model\n",
    "model = ols('Mean ~ C(Ethnicity) + C(Emotion) + C(Ethnicity):C(Emotion)', data=df).fit()\n",
    "\n",
    "# table of results\n",
    "anova_table = sm.stats.anova_lm(model)\n",
    "\n",
    "# PRINTTTTT\n",
    "print(anova_table)\n"
   ]
  },
  {
   "cell_type": "markdown",
   "id": "c8dbec4d",
   "metadata": {},
   "source": [
    "# The same but using the neutral condition and leaving out the asians"
   ]
  },
  {
   "cell_type": "markdown",
   "id": "599772bd",
   "metadata": {},
   "source": [
    "## Factors"
   ]
  },
  {
   "cell_type": "code",
   "execution_count": 49,
   "id": "724761d6",
   "metadata": {},
   "outputs": [
    {
     "name": "stdout",
     "output_type": "stream",
     "text": [
      "   Ethnicity  Emotion          Mean\n",
      "0      white    happy -1.427985e-08\n",
      "1      white  neutral -7.863522e-07\n",
      "2      white      sad -1.886132e-08\n",
      "3      black    happy -3.755538e-08\n",
      "4      black  neutral -2.942374e-07\n",
      "5      black      sad  1.858291e-08\n",
      "6      white    happy -2.250763e-07\n",
      "7      white  neutral -3.468075e-07\n",
      "8      white      sad -4.321362e-07\n",
      "9      black    happy -3.916005e-07\n",
      "10     black  neutral -4.915243e-07\n",
      "11     black      sad -3.841368e-07\n"
     ]
    }
   ],
   "source": [
    "# make lists for labels in conditions\n",
    "ethnicity_labels = ['white', 'black']\n",
    "emotion_labels = ['happy', 'neutral', 'sad']\n",
    "data = []\n",
    "\n",
    "# WE want combinations of ethnicity and emotion, so we loop over all of the epochs conditions\n",
    "for epochs in all_epochs:\n",
    "    for ethnicity in ethnicity_labels:\n",
    "        for emotion in emotion_labels:\n",
    "                current_epochs = epochs[f'{emotion}/{ethnicity}']\n",
    "                # get data\n",
    "                data_current = current_epochs.get_data(picks=picks, tmin=tmin, tmax=tmax)\n",
    "                # calculate mean for this data\n",
    "                data_mean = np.mean(data_current, axis=(0, 1, 2))\n",
    "                # add data to list\n",
    "                data.append([ethnicity, emotion, data_mean])\n",
    "\n",
    "# Make to dtaframe\n",
    "df = pd.DataFrame(data, columns=['Ethnicity', 'Emotion', 'Mean'])\n",
    "# see hot it looks\n",
    "print(df)\n"
   ]
  },
  {
   "cell_type": "code",
   "execution_count": 50,
   "id": "d688513b",
   "metadata": {},
   "outputs": [
    {
     "name": "stdout",
     "output_type": "stream",
     "text": [
      "                          df        sum_sq       mean_sq         F    PR(>F)\n",
      "C(Ethnicity)             1.0  4.922443e-15  4.922443e-15  0.080379  0.786313\n",
      "C(Emotion)               2.0  2.333882e-13  1.166941e-13  1.905510  0.228724\n",
      "C(Ethnicity):C(Emotion)  2.0  3.608003e-14  1.804001e-14  0.294577  0.755031\n",
      "Residual                 6.0  3.674420e-13  6.124034e-14       NaN       NaN\n"
     ]
    }
   ],
   "source": [
    "# copy from above :DDDDD\n",
    "# Get ethinities and emotions conditions\n",
    "ethnicities = df['Ethnicity'].unique()\n",
    "emotions = df['Emotion'].unique()\n",
    "\n",
    "# empty list to store results\n",
    "anova_results = []\n",
    "\n",
    "# loop through each combination of ethnicity and emotion\n",
    "for ethnicity in ethnicities:\n",
    "    for emotion in emotions:\n",
    "        # select the data corresponding to current one\n",
    "        data_subset = df[(df['Ethnicity'] == ethnicity) & (df['Emotion'] == emotion)]['Mean'].values\n",
    "        \n",
    "        # we append the data subset to the list\n",
    "        anova_results.append(data_subset)\n",
    "\n",
    "# TWO WAY ANOVA\n",
    "# we fit the model\n",
    "model = ols('Mean ~ C(Ethnicity) + C(Emotion) + C(Ethnicity):C(Emotion)', data=df).fit()\n",
    "\n",
    "# table of results\n",
    "anova_table = sm.stats.anova_lm(model)\n",
    "\n",
    "# PRINTTTTT\n",
    "print(anova_table)\n"
   ]
  }
 ],
 "metadata": {
  "kernelspec": {
   "display_name": "Python 3 (ipykernel)",
   "language": "python",
   "name": "python3"
  },
  "language_info": {
   "codemirror_mode": {
    "name": "ipython",
    "version": 3
   },
   "file_extension": ".py",
   "mimetype": "text/x-python",
   "name": "python",
   "nbconvert_exporter": "python",
   "pygments_lexer": "ipython3",
   "version": "3.11.4"
  },
  "toc": {
   "base_numbering": 1,
   "nav_menu": {},
   "number_sections": true,
   "sideBar": true,
   "skip_h1_title": false,
   "title_cell": "Table of Contents",
   "title_sidebar": "Contents",
   "toc_cell": false,
   "toc_position": {},
   "toc_section_display": true,
   "toc_window_display": false
  },
  "vscode": {
   "interpreter": {
    "hash": "31f2aee4e71d21fbe5cf8b01ff0e069b9275f58929596ceb00d14d90e3e16cd6"
   }
  }
 },
 "nbformat": 4,
 "nbformat_minor": 5
}
