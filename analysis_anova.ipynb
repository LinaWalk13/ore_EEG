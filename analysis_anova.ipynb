{
 "cells": [
  {
   "cell_type": "markdown",
   "id": "1ecedb06",
   "metadata": {},
   "source": [
    "# Anova for our analysis\n",
    "We run an anova to compare ethnicities and emotions, each combination of those. We have to leave out the asians unfortunately:("
   ]
  },
  {
   "cell_type": "markdown",
   "id": "989aa27b",
   "metadata": {},
   "source": [
    "# Load in packages "
   ]
  },
  {
   "cell_type": "code",
   "execution_count": 9,
   "id": "4c8849e9",
   "metadata": {},
   "outputs": [],
   "source": [
    "import numpy as np\n",
    "import mne\n",
    "from pathlib import Path\n",
    "import pandas as pd\n",
    "import statsmodels.api as sm\n",
    "from statsmodels.formula.api import ols\n",
    "from statsmodels.formula.api import mixedlm"
   ]
  },
  {
   "cell_type": "markdown",
   "id": "eab92bfa",
   "metadata": {},
   "source": [
    "## Load in the data and epochs"
   ]
  },
  {
   "cell_type": "code",
   "execution_count": 10,
   "id": "c34e33fe",
   "metadata": {},
   "outputs": [
    {
     "name": "stdout",
     "output_type": "stream",
     "text": [
      "NOTE: pick_types() is a legacy function. New code should use inst.pick(...).\n",
      "NOTE: pick_types() is a legacy function. New code should use inst.pick(...).\n",
      "<class 'list'>\n",
      "2\n",
      "<class 'mne.epochs.EpochsFIF'>\n"
     ]
    }
   ],
   "source": [
    "# ALL FROM LAURAS GROUP LEVEL ANALYSIS\n",
    "# Define the directory\n",
    "data_path = Path(\"/Users/lina/Documents/GitHub/ore_EEG/epochs\")\n",
    "\n",
    "# Initialize an empty list to store epochs objects\n",
    "all_epochs = []\n",
    "\n",
    "# Iterate over your saved files and load them into epochs objects\n",
    "for participant in [\"own_sub1\", \"own2_ah\"]:\n",
    "    # Load epochs data from each file\n",
    "    epochs = mne.read_epochs(data_path / f\"epochs_{participant}-epo.fif\", verbose=False, preload=True)\n",
    "    \n",
    "    # Only keep EEG channels\n",
    "    epochs.pick_types(eeg=True)\n",
    "    \n",
    "    # Append the loaded epochs object to the list\n",
    "    all_epochs.append(epochs)\n",
    "\n",
    "# Check the type and length of the list of epochs objects\n",
    "print(type(all_epochs))  # We have now created a list of epochs objects\n",
    "print(len(all_epochs))    # We have 2 epochs objects in the list\n",
    "\n",
    "# Access the first epochs object in the list\n",
    "print(type(all_epochs[0]))  # We can access the first epochs object in the list which is an Epochs object"
   ]
  },
  {
   "cell_type": "markdown",
   "id": "484151e2",
   "metadata": {},
   "source": [
    "## Define channels and time used for the anova"
   ]
  },
  {
   "cell_type": "code",
   "execution_count": 11,
   "id": "80d2fcf5",
   "metadata": {},
   "outputs": [],
   "source": [
    "# chosen channels for anova\n",
    "picks = [\"Oz\", \"P7\"] # just random \n",
    "\n",
    "# time window for anova\n",
    "tmin = 0.13\n",
    "tmax = 0.21"
   ]
  },
  {
   "cell_type": "markdown",
   "id": "599772bd",
   "metadata": {},
   "source": [
    "## Define Factors"
   ]
  },
  {
   "cell_type": "code",
   "execution_count": 12,
   "id": "c6dadd0e",
   "metadata": {},
   "outputs": [],
   "source": [
    "# Labels for conditions\n",
    "ethnicity_labels = ['white', 'black']\n",
    "emotion_labels = ['happy', 'neutral', 'sad']\n",
    "data = []"
   ]
  },
  {
   "cell_type": "code",
   "execution_count": 13,
   "id": "724761d6",
   "metadata": {},
   "outputs": [],
   "source": [
    "# We want combinations of ethnicity and emotion, so we loop over all of the epochs conditions\n",
    "for i, epochs in enumerate(all_epochs):\n",
    "    for ethnicity in ethnicity_labels:\n",
    "        for emotion in emotion_labels:\n",
    "            current_epochs = epochs[f'{emotion}/{ethnicity}']\n",
    "            data_current = current_epochs.get_data(picks=picks, tmin=tmin, tmax=tmax)\n",
    "            \n",
    "            # Find the minimum peak value in the specified time window for each epoch\n",
    "            data_min = np.min(data_current, axis=2).mean(axis=0).min()\n",
    "            \n",
    "            # Append the minimum peak data, labels, and subject ID to the list\n",
    "            data.append([i, ethnicity, emotion, data_min])\n",
    "\n",
    "# Make a dataframe\n",
    "df = pd.DataFrame(data, columns=['Subject', 'Ethnicity', 'Emotion', 'MinPeak'])\n"
   ]
  },
  {
   "cell_type": "markdown",
   "id": "b68f4123",
   "metadata": {},
   "source": [
    "# Perform anova"
   ]
  },
  {
   "cell_type": "code",
   "execution_count": 14,
   "id": "d688513b",
   "metadata": {},
   "outputs": [
    {
     "name": "stdout",
     "output_type": "stream",
     "text": [
      "\\begin{table}\n",
      "\\caption{Mixed Linear Model Regression Results}\n",
      "\\label{}\n",
      "\\begin{center}\n",
      "\\begin{tabular}{llll}\n",
      "\\hline\n",
      "Model:            & MixedLM & Dependent Variable: & MinPeak  \\\\\n",
      "No. Observations: & 12      & Method:             & REML     \\\\\n",
      "No. Groups:       & 2       & Scale:              & 0.0000   \\\\\n",
      "Min. group size:  & 6       & Log-Likelihood:     & 75.6339  \\\\\n",
      "Max. group size:  & 6       & Converged:          & Yes      \\\\\n",
      "Mean group size:  & 6.0     &                     &          \\\\\n",
      "\\hline\n",
      "\\end{tabular}\n",
      "\\end{center}\n",
      "\n",
      "\\begin{center}\n",
      "\\begin{tabular}{lrrrrrr}\n",
      "\\hline\n",
      "                                            &  Coef. & Std.Err. &      z & P$> |$z$|$ & [0.025 & 0.975]  \\\\\n",
      "\\hline\n",
      "Intercept                                   & -0.000 &    0.000 & -5.025 &       0.000 & -0.000 & -0.000  \\\\\n",
      "C(Ethnicity)[T.white]                       & -0.000 &    0.000 & -0.574 &       0.566 & -0.000 &  0.000  \\\\\n",
      "C(Emotion)[T.neutral]                       & -0.000 &    0.000 & -1.496 &       0.135 & -0.000 &  0.000  \\\\\n",
      "C(Emotion)[T.sad]                           & -0.000 &    0.000 & -0.884 &       0.376 & -0.000 &  0.000  \\\\\n",
      "C(Ethnicity)[T.white]:C(Emotion)[T.neutral] &  0.000 &    0.000 &  0.547 &       0.584 & -0.000 &  0.000  \\\\\n",
      "C(Ethnicity)[T.white]:C(Emotion)[T.sad]     &  0.000 &    0.000 &  0.357 &       0.721 & -0.000 &  0.000  \\\\\n",
      "Group Var                                   &  0.000 &    0.000 &        &             &        &         \\\\\n",
      "\\hline\n",
      "\\end{tabular}\n",
      "\\end{center}\n",
      "\\end{table}\n",
      "\\bigskip\n",
      "\n"
     ]
    },
    {
     "name": "stderr",
     "output_type": "stream",
     "text": [
      "/Applications/anaconda3/lib/python3.11/site-packages/statsmodels/regression/mixed_linear_model.py:2238: ConvergenceWarning: The MLE may be on the boundary of the parameter space.\n",
      "  warnings.warn(msg, ConvergenceWarning)\n"
     ]
    }
   ],
   "source": [
    "# Fit model with subject as group level\n",
    "model = mixedlm('MinPeak ~ C(Ethnicity) * C(Emotion)', data=df, groups=df['Subject'])\n",
    "anova_result = model.fit()\n",
    "\n",
    "# Print the summary of the model\n",
    "print(anova_result.summary().as_latex())"
   ]
  },
  {
   "cell_type": "code",
   "execution_count": 16,
   "id": "435fdce8",
   "metadata": {},
   "outputs": [
    {
     "name": "stdout",
     "output_type": "stream",
     "text": [
      "NOTE: pick_channels() is a legacy function. New code should use inst.pick(...).\n",
      "NOTE: pick_channels() is a legacy function. New code should use inst.pick(...).\n"
     ]
    },
    {
     "name": "stderr",
     "output_type": "stream",
     "text": [
      "/var/folders/sr/t35nvgpn1m9d3bl1dbwrj4300000gn/T/ipykernel_4526/1008131377.py:16: FutureWarning: The current default of copy=False will change to copy=True in 1.7. Set the value of copy explicitly to avoid this warning\n",
      "  data = condition_epochs.get_data()\n",
      "/var/folders/sr/t35nvgpn1m9d3bl1dbwrj4300000gn/T/ipykernel_4526/1008131377.py:16: FutureWarning: The current default of copy=False will change to copy=True in 1.7. Set the value of copy explicitly to avoid this warning\n",
      "  data = condition_epochs.get_data()\n"
     ]
    },
    {
     "name": "stdout",
     "output_type": "stream",
     "text": [
      "NOTE: pick_channels() is a legacy function. New code should use inst.pick(...).\n",
      "NOTE: pick_channels() is a legacy function. New code should use inst.pick(...).\n"
     ]
    },
    {
     "name": "stderr",
     "output_type": "stream",
     "text": [
      "/var/folders/sr/t35nvgpn1m9d3bl1dbwrj4300000gn/T/ipykernel_4526/1008131377.py:16: FutureWarning: The current default of copy=False will change to copy=True in 1.7. Set the value of copy explicitly to avoid this warning\n",
      "  data = condition_epochs.get_data()\n",
      "/var/folders/sr/t35nvgpn1m9d3bl1dbwrj4300000gn/T/ipykernel_4526/1008131377.py:16: FutureWarning: The current default of copy=False will change to copy=True in 1.7. Set the value of copy explicitly to avoid this warning\n",
      "  data = condition_epochs.get_data()\n"
     ]
    },
    {
     "name": "stdout",
     "output_type": "stream",
     "text": [
      "NOTE: pick_channels() is a legacy function. New code should use inst.pick(...).\n",
      "NOTE: pick_channels() is a legacy function. New code should use inst.pick(...).\n"
     ]
    },
    {
     "name": "stderr",
     "output_type": "stream",
     "text": [
      "/var/folders/sr/t35nvgpn1m9d3bl1dbwrj4300000gn/T/ipykernel_4526/1008131377.py:16: FutureWarning: The current default of copy=False will change to copy=True in 1.7. Set the value of copy explicitly to avoid this warning\n",
      "  data = condition_epochs.get_data()\n",
      "/var/folders/sr/t35nvgpn1m9d3bl1dbwrj4300000gn/T/ipykernel_4526/1008131377.py:16: FutureWarning: The current default of copy=False will change to copy=True in 1.7. Set the value of copy explicitly to avoid this warning\n",
      "  data = condition_epochs.get_data()\n"
     ]
    },
    {
     "name": "stdout",
     "output_type": "stream",
     "text": [
      "NOTE: pick_channels() is a legacy function. New code should use inst.pick(...).\n"
     ]
    },
    {
     "name": "stderr",
     "output_type": "stream",
     "text": [
      "/var/folders/sr/t35nvgpn1m9d3bl1dbwrj4300000gn/T/ipykernel_4526/1008131377.py:16: FutureWarning: The current default of copy=False will change to copy=True in 1.7. Set the value of copy explicitly to avoid this warning\n",
      "  data = condition_epochs.get_data()\n"
     ]
    },
    {
     "name": "stdout",
     "output_type": "stream",
     "text": [
      "NOTE: pick_channels() is a legacy function. New code should use inst.pick(...).\n",
      "NOTE: pick_channels() is a legacy function. New code should use inst.pick(...).\n"
     ]
    },
    {
     "name": "stderr",
     "output_type": "stream",
     "text": [
      "/var/folders/sr/t35nvgpn1m9d3bl1dbwrj4300000gn/T/ipykernel_4526/1008131377.py:16: FutureWarning: The current default of copy=False will change to copy=True in 1.7. Set the value of copy explicitly to avoid this warning\n",
      "  data = condition_epochs.get_data()\n",
      "/var/folders/sr/t35nvgpn1m9d3bl1dbwrj4300000gn/T/ipykernel_4526/1008131377.py:16: FutureWarning: The current default of copy=False will change to copy=True in 1.7. Set the value of copy explicitly to avoid this warning\n",
      "  data = condition_epochs.get_data()\n"
     ]
    },
    {
     "name": "stdout",
     "output_type": "stream",
     "text": [
      "NOTE: pick_channels() is a legacy function. New code should use inst.pick(...).\n",
      "NOTE: pick_channels() is a legacy function. New code should use inst.pick(...).\n"
     ]
    },
    {
     "name": "stderr",
     "output_type": "stream",
     "text": [
      "/var/folders/sr/t35nvgpn1m9d3bl1dbwrj4300000gn/T/ipykernel_4526/1008131377.py:16: FutureWarning: The current default of copy=False will change to copy=True in 1.7. Set the value of copy explicitly to avoid this warning\n",
      "  data = condition_epochs.get_data()\n",
      "/var/folders/sr/t35nvgpn1m9d3bl1dbwrj4300000gn/T/ipykernel_4526/1008131377.py:16: FutureWarning: The current default of copy=False will change to copy=True in 1.7. Set the value of copy explicitly to avoid this warning\n",
      "  data = condition_epochs.get_data()\n"
     ]
    },
    {
     "name": "stdout",
     "output_type": "stream",
     "text": [
      "NOTE: pick_channels() is a legacy function. New code should use inst.pick(...).\n"
     ]
    },
    {
     "name": "stderr",
     "output_type": "stream",
     "text": [
      "/var/folders/sr/t35nvgpn1m9d3bl1dbwrj4300000gn/T/ipykernel_4526/1008131377.py:16: FutureWarning: The current default of copy=False will change to copy=True in 1.7. Set the value of copy explicitly to avoid this warning\n",
      "  data = condition_epochs.get_data()\n"
     ]
    },
    {
     "data": {
      "image/png": "[encoded data removed]",
      "text/plain": [
       "<Figure size 1500x1000 with 6 Axes>"
      ]
     },
     "metadata": {},
     "output_type": "display_data"
    }
   ],
   "source": [
    "\n",
    "# Initialize a dictionary to store the averaged data for plotting\n",
    "averaged_data = {ethnicity: {emotion: [] for emotion in emotion_labels} for ethnicity in ethnicity_labels}\n",
    "\n",
    "# Extract and average data\n",
    "for epochs in all_epochs:\n",
    "    for ethnicity in ethnicity_labels:\n",
    "        for emotion in emotion_labels:\n",
    "            # Select epochs for the specific condition\n",
    "            condition_epochs = epochs[f\"{ethnicity}/{emotion}\"].copy()\n",
    "            condition_epochs.pick_channels(picks)\n",
    "            \n",
    "            # Crop to the specified time window\n",
    "            condition_epochs.crop(tmin=tmin, tmax=tmax)\n",
    "            \n",
    "            # Get the data and average it\n",
    "            data = condition_epochs.get_data()\n",
    "            average = data.mean(axis=0)  # Average across epochs\n",
    "            \n",
    "            # Store the average data\n",
    "            averaged_data[ethnicity][emotion].append(average)\n",
    "\n",
    "# Combine data across participants and compute grand average\n",
    "grand_averaged_data = {ethnicity: {emotion: np.mean(averaged_data[ethnicity][emotion], axis=0) \n",
    "                                   for emotion in emotion_labels} \n",
    "                       for ethnicity in ethnicity_labels}\n",
    "\n",
    "# Plotting\n",
    "fig, axes = plt.subplots(2, 3, figsize=(15, 10), sharey=True)\n",
    "\n",
    "for i, ethnicity in enumerate(ethnicity_labels):\n",
    "    for j, emotion in enumerate(emotion_labels):\n",
    "        ax = axes[i, j]\n",
    "        for pick in picks:\n",
    "            # Check if the channel is in the epoch's channels\n",
    "            if pick in all_epochs[0].info['ch_names']:\n",
    "                ch_index = all_epochs[0].info['ch_names'].index(pick)\n",
    "                times = all_epochs[0].times\n",
    "                data = grand_averaged_data[ethnicity][emotion]\n",
    "                \n",
    "                # Ensure that the data has the right dimensions\n",
    "                if ch_index < data.shape[0]:\n",
    "                    ax.plot(times, data[ch_index], label=pick)\n",
    "        \n",
    "        ax.set_title(f'{ethnicity.capitalize()} - {emotion.capitalize()}')\n",
    "        ax.axvline(x=0.17, color='r', linestyle='--', label='N170 Peak')\n",
    "        ax.axhline(y=0, color='k', linestyle='--')\n",
    "        ax.set_xlim(tmin - 0.05, tmax + 0.05)\n",
    "        ax.set_xlabel('Time (s)')\n",
    "        ax.set_ylabel('Amplitude (µV)')\n",
    "        ax.legend()\n",
    "\n",
    "plt.tight_layout()\n",
    "plt.show()"
   ]
  }
 ],
 "metadata": {
  "kernelspec": {
   "display_name": "Python 3 (ipykernel)",
   "language": "python",
   "name": "python3"
  },
  "language_info": {
   "codemirror_mode": {
    "name": "ipython",
    "version": 3
   },
   "file_extension": ".py",
   "mimetype": "text/x-python",
   "name": "python",
   "nbconvert_exporter": "python",
   "pygments_lexer": "ipython3",
   "version": "3.11.4"
  },
  "toc": {
   "base_numbering": 1,
   "nav_menu": {},
   "number_sections": true,
   "sideBar": true,
   "skip_h1_title": false,
   "title_cell": "Table of Contents",
   "title_sidebar": "Contents",
   "toc_cell": false,
   "toc_position": {},
   "toc_section_display": true,
   "toc_window_display": false
  },
  "vscode": {
   "interpreter": {
    "hash": "31f2aee4e71d21fbe5cf8b01ff0e069b9275f58929596ceb00d14d90e3e16cd6"
   }
  }
 },
 "nbformat": 4,
 "nbformat_minor": 5
}
