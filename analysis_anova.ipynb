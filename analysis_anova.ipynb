{
 "cells": [
  {
   "cell_type": "markdown",
   "id": "1ecedb06",
   "metadata": {},
   "source": [
    "# Anova for our analysis\n",
    "We run an anova to compare ethnicities and emotions, each combination of those. We have to leave out the asians unfortunately:("
   ]
  },
  {
   "cell_type": "markdown",
   "id": "989aa27b",
   "metadata": {},
   "source": [
    "# Load in packages "
   ]
  },
  {
   "cell_type": "code",
   "execution_count": 29,
   "id": "4c8849e9",
   "metadata": {},
   "outputs": [],
   "source": [
    "import numpy as np\n",
    "import mne\n",
    "from pathlib import Path\n",
    "import pandas as pd\n",
    "import statsmodels.api as sm\n",
    "from statsmodels.formula.api import ols\n",
    "from statsmodels.formula.api import mixedlm"
   ]
  },
  {
   "cell_type": "markdown",
   "id": "eab92bfa",
   "metadata": {},
   "source": [
    "## Load in the data and epochs"
   ]
  },
  {
   "cell_type": "code",
   "execution_count": 30,
   "id": "c34e33fe",
   "metadata": {},
   "outputs": [
    {
     "name": "stdout",
     "output_type": "stream",
     "text": [
      "NOTE: pick_types() is a legacy function. New code should use inst.pick(...).\n",
      "NOTE: pick_types() is a legacy function. New code should use inst.pick(...).\n",
      "<class 'list'>\n",
      "2\n",
      "<class 'mne.epochs.EpochsFIF'>\n"
     ]
    }
   ],
   "source": [
    "# ALL FROM LAURAS GROUP LEVEL ANALYSIS\n",
    "# Define the directory\n",
    "data_path = Path(\"/Users/lina/Documents/GitHub/ore_EEG/epochs\")\n",
    "\n",
    "# Initialize an empty list to store epochs objects\n",
    "all_epochs = []\n",
    "\n",
    "# Iterate over your saved files and load them into epochs objects\n",
    "for participant in [\"own_sub1\", \"own2_ah\"]:\n",
    "    # Load epochs data from each file\n",
    "    epochs = mne.read_epochs(data_path / f\"epochs_{participant}-epo.fif\", verbose=False, preload=True)\n",
    "    \n",
    "    # Only keep EEG channels\n",
    "    epochs.pick_types(eeg=True)\n",
    "    \n",
    "    # Append the loaded epochs object to the list\n",
    "    all_epochs.append(epochs)\n",
    "\n",
    "# Check the type and length of the list of epochs objects\n",
    "print(type(all_epochs))  # We have now created a list of epochs objects\n",
    "print(len(all_epochs))    # We have 2 epochs objects in the list\n",
    "\n",
    "# Access the first epochs object in the list\n",
    "print(type(all_epochs[0]))  # We can access the first epochs object in the list which is an Epochs object"
   ]
  },
  {
   "cell_type": "markdown",
   "id": "484151e2",
   "metadata": {},
   "source": [
    "## Define channels and time used for the anova"
   ]
  },
  {
   "cell_type": "code",
   "execution_count": 2,
   "id": "80d2fcf5",
   "metadata": {},
   "outputs": [],
   "source": [
    "# chosen channels for anova\n",
    "picks = [\"Oz\", \"P7\"] # just random \n",
    "\n",
    "# time window for anova\n",
    "tmin = 0.1\n",
    "tmax = 0.2"
   ]
  },
  {
   "cell_type": "markdown",
   "id": "599772bd",
   "metadata": {},
   "source": [
    "## Define Factors"
   ]
  },
  {
   "cell_type": "code",
   "execution_count": 3,
   "id": "724761d6",
   "metadata": {},
   "outputs": [
    {
     "name": "stdout",
     "output_type": "stream",
     "text": [
      "    Subject Ethnicity  Emotion      Mean\n",
      "0         0     white    happy  0.000002\n",
      "1         0     white  neutral  0.000002\n",
      "2         0     white      sad  0.000002\n",
      "3         0     black    happy  0.000002\n",
      "4         0     black  neutral  0.000002\n",
      "5         0     black      sad  0.000002\n",
      "6         1     white    happy  0.000001\n",
      "7         1     white  neutral  0.000001\n",
      "8         1     white      sad  0.000002\n",
      "9         1     black    happy  0.000002\n",
      "10        1     black  neutral  0.000001\n",
      "11        1     black      sad  0.000002\n"
     ]
    }
   ],
   "source": [
    "# make lists for labels in conditions\n",
    "ethnicity_labels = ['white', 'black']\n",
    "emotion_labels = ['happy', 'neutral', 'sad']\n",
    "data = []\n",
    "\n",
    "# WE want combinations of ethnicity and emotion, so we loop over all of the epochs conditions\n",
    "## ADDED SUBJECT HERE\n",
    "for i, epochs in enumerate(all_epochs):\n",
    "    for ethnicity in ethnicity_labels:\n",
    "        for emotion in emotion_labels:\n",
    "                current_epochs = epochs[f'{emotion}/{ethnicity}']\n",
    "                data_current = current_epochs.get_data(picks=picks, tmin=tmin, tmax=tmax)\n",
    "                data_mean = np.mean(data_current, axis=(0, 1, 2))\n",
    "                # append the mean data, labels, and subject ID to the list\n",
    "                data.append([i, ethnicity, emotion, data_mean])\n",
    "\n",
    "# Make to dataframe\n",
    "df = pd.DataFrame(data, columns=['Subject', 'Ethnicity', 'Emotion', 'Mean'])\n",
    "\n",
    "# see hot it looks\n",
    "print(df)\n"
   ]
  },
  {
   "cell_type": "markdown",
   "id": "b68f4123",
   "metadata": {},
   "source": [
    "# Perform anova"
   ]
  },
  {
   "cell_type": "code",
   "execution_count": 8,
   "id": "d688513b",
   "metadata": {},
   "outputs": [
    {
     "name": "stdout",
     "output_type": "stream",
     "text": [
      "                        Mixed Linear Model Regression Results\n",
      "======================================================================================\n",
      "Model:                        MixedLM           Dependent Variable:           Mean    \n",
      "No. Observations:             24                Method:                       REML    \n",
      "No. Groups:                   2                 Scale:                        0.0000  \n",
      "Min. group size:              12                Log-Likelihood:               252.8268\n",
      "Max. group size:              12                Converged:                    Yes     \n",
      "Mean group size:              12.0                                                    \n",
      "--------------------------------------------------------------------------------------\n",
      "                                            Coef.  Std.Err.   z    P>|z| [0.025 0.975]\n",
      "--------------------------------------------------------------------------------------\n",
      "Intercept                                    0.000    0.000  7.459 0.000  0.000  0.000\n",
      "C(Ethnicity)[T.white]                       -0.000    0.000 -4.021 0.000 -0.000 -0.000\n",
      "C(Emotion)[T.neutral]                       -0.000    0.000 -5.852 0.000 -0.000 -0.000\n",
      "C(Emotion)[T.sad]                           -0.000    0.000 -0.854 0.393 -0.000  0.000\n",
      "C(Ethnicity)[T.white]:C(Emotion)[T.neutral]  0.000    0.000  0.515 0.606 -0.000  0.000\n",
      "C(Ethnicity)[T.white]:C(Emotion)[T.sad]     -0.000    0.000 -0.401 0.688 -0.000  0.000\n",
      "Group Var                                    0.000    0.000                           \n",
      "======================================================================================\n",
      "\n"
     ]
    },
    {
     "name": "stderr",
     "output_type": "stream",
     "text": [
      "/Applications/anaconda3/lib/python3.11/site-packages/statsmodels/regression/mixed_linear_model.py:2238: ConvergenceWarning: The MLE may be on the boundary of the parameter space.\n",
      "  warnings.warn(msg, ConvergenceWarning)\n"
     ]
    }
   ],
   "source": [
    "# Fit model with subject as group level\n",
    "model = mixedlm('Mean ~ C(Ethnicity) * C(Emotion)', data=df, groups=df['Subject'])\n",
    "anova_result = model.fit()\n",
    "\n",
    "# Print the summary of the model\n",
    "print(anova_result.summary())\n"
   ]
  }
 ],
 "metadata": {
  "kernelspec": {
   "display_name": "Python 3 (ipykernel)",
   "language": "python",
   "name": "python3"
  },
  "language_info": {
   "codemirror_mode": {
    "name": "ipython",
    "version": 3
   },
   "file_extension": ".py",
   "mimetype": "text/x-python",
   "name": "python",
   "nbconvert_exporter": "python",
   "pygments_lexer": "ipython3",
   "version": "3.11.4"
  },
  "toc": {
   "base_numbering": 1,
   "nav_menu": {},
   "number_sections": true,
   "sideBar": true,
   "skip_h1_title": false,
   "title_cell": "Table of Contents",
   "title_sidebar": "Contents",
   "toc_cell": false,
   "toc_position": {},
   "toc_section_display": true,
   "toc_window_display": false
  },
  "vscode": {
   "interpreter": {
    "hash": "31f2aee4e71d21fbe5cf8b01ff0e069b9275f58929596ceb00d14d90e3e16cd6"
   }
  }
 },
 "nbformat": 4,
 "nbformat_minor": 5
}
